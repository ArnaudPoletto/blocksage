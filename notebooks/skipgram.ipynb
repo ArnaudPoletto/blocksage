{
 "cells": [
  {
   "cell_type": "code",
   "execution_count": 1,
   "metadata": {},
   "outputs": [],
   "source": [
    "%load_ext autoreload\n",
    "%autoreload 2"
   ]
  },
  {
   "cell_type": "code",
   "execution_count": 9,
   "metadata": {},
   "outputs": [],
   "source": [
    "import sys\n",
    "sys.path.append('../')\n",
    "\n",
    "import os\n",
    "\n",
    "from src.utils.parser import get_config\n",
    "from src.datasets.skipgram_dataset import get_dataloader\n",
    "from src.utils.block_dictionary import get_block_id_dictionary\n",
    "from src.config import (\n",
    "    SKIPGRAM_CONFIG_PATH,\n",
    "    SKIPGRAM_TRAIN_DATASET_SIZE\n",
    ")\n",
    "\n",
    "os.environ['KMP_DUPLICATE_LIB_OK'] = 'True'"
   ]
  },
  {
   "cell_type": "code",
   "execution_count": 19,
   "metadata": {},
   "outputs": [],
   "source": [
    "# import numpy as np\n",
    "# n = 1005\n",
    "# np.save('../data/skipgram_cooccurrence_matrix.npy', np.eye(n))"
   ]
  },
  {
   "cell_type": "code",
   "execution_count": 20,
   "metadata": {},
   "outputs": [],
   "source": [
    "config = get_config(SKIPGRAM_CONFIG_PATH)\n",
    "num_negative_samples = int(config[\"num_negative_samples\"])\n",
    "batch_size = int(config[\"batch_size\"])"
   ]
  },
  {
   "cell_type": "code",
   "execution_count": 21,
   "metadata": {},
   "outputs": [],
   "source": [
    "train_loader = get_dataloader(\n",
    "        dataset_size=SKIPGRAM_TRAIN_DATASET_SIZE,\n",
    "        num_negative_samples=num_negative_samples,\n",
    "        batch_size=batch_size,\n",
    "    )"
   ]
  },
  {
   "cell_type": "code",
   "execution_count": 22,
   "metadata": {},
   "outputs": [
    {
     "name": "stdout",
     "output_type": "stream",
     "text": [
      "[tensor([267, 292, 227, 250, 999, 700, 839, 963, 853, 991,  41, 440, 535, 729,\n",
      "        216, 394, 863, 614, 306, 588, 563, 552, 606, 104, 125, 470, 717, 843,\n",
      "        496, 393, 232, 378, 501, 734, 298,   3, 260, 386, 178, 704, 883, 396,\n",
      "        287,  53, 309, 920, 510, 360, 432, 173, 738, 205, 923, 764, 546, 743,\n",
      "        126, 291, 123, 242, 966, 578, 934, 616]), tensor([267, 292, 227, 250, 999, 700, 839, 963, 853, 991,  41, 440, 535, 729,\n",
      "        216, 394, 863, 614, 306, 588, 563, 552, 606, 104, 125, 470, 717, 843,\n",
      "        496, 393, 232, 378, 501, 734, 298,   3, 260, 386, 178, 704, 883, 396,\n",
      "        287,  53, 309, 920, 510, 360, 432, 173, 738, 205, 923, 764, 546, 743,\n",
      "        126, 291, 123, 242, 966, 578, 934, 616]), tensor([[489, 158],\n",
      "        [199, 702],\n",
      "        [  7, 572],\n",
      "        [ 92, 173],\n",
      "        [216, 319],\n",
      "        [363, 381],\n",
      "        [602, 320],\n",
      "        [959,  31],\n",
      "        [763, 808],\n",
      "        [691, 551],\n",
      "        [582, 984],\n",
      "        [826, 708],\n",
      "        [158, 693],\n",
      "        [371, 752],\n",
      "        [782, 519],\n",
      "        [339, 215],\n",
      "        [643, 361],\n",
      "        [659, 647],\n",
      "        [546, 836],\n",
      "        [476, 692],\n",
      "        [ 43, 607],\n",
      "        [165, 795],\n",
      "        [823, 204],\n",
      "        [254, 675],\n",
      "        [171, 585],\n",
      "        [588, 690],\n",
      "        [ 90, 869],\n",
      "        [872, 589],\n",
      "        [492, 442],\n",
      "        [304, 323],\n",
      "        [ 58, 672],\n",
      "        [739, 436],\n",
      "        [105, 678],\n",
      "        [980, 563],\n",
      "        [115, 365],\n",
      "        [978, 584],\n",
      "        [958, 694],\n",
      "        [912, 112],\n",
      "        [ 35, 308],\n",
      "        [877, 678],\n",
      "        [958, 532],\n",
      "        [887, 674],\n",
      "        [198, 999],\n",
      "        [973, 884],\n",
      "        [895, 512],\n",
      "        [411, 301],\n",
      "        [256, 827],\n",
      "        [637, 121],\n",
      "        [296, 505],\n",
      "        [514, 719],\n",
      "        [979, 610],\n",
      "        [262, 115],\n",
      "        [814, 956],\n",
      "        [358, 428],\n",
      "        [ 12, 981],\n",
      "        [797, 480],\n",
      "        [552, 269],\n",
      "        [949, 688],\n",
      "        [446, 512],\n",
      "        [726, 170],\n",
      "        [636, 178],\n",
      "        [856, 421],\n",
      "        [754, 719],\n",
      "        [877, 919]], dtype=torch.int32)]\n"
     ]
    }
   ],
   "source": [
    "for i, data in enumerate(train_loader):\n",
    "    print(data)\n",
    "    break"
   ]
  }
 ],
 "metadata": {
  "kernelspec": {
   "display_name": "dm",
   "language": "python",
   "name": "python3"
  },
  "language_info": {
   "codemirror_mode": {
    "name": "ipython",
    "version": 3
   },
   "file_extension": ".py",
   "mimetype": "text/x-python",
   "name": "python",
   "nbconvert_exporter": "python",
   "pygments_lexer": "ipython3",
   "version": "3.12.1"
  }
 },
 "nbformat": 4,
 "nbformat_minor": 2
}
