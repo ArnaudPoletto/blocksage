{
 "cells": [
  {
   "cell_type": "code",
   "execution_count": 1,
   "metadata": {},
   "outputs": [],
   "source": [
    "%load_ext autoreload\n",
    "%autoreload 2"
   ]
  },
  {
   "cell_type": "code",
   "execution_count": 2,
   "metadata": {},
   "outputs": [],
   "source": [
    "import sys\n",
    "sys.path.append('../')\n",
    "\n",
    "import numpy as np\n",
    "\n",
    "DATA_PATH = '../data/'\n",
    "REGION_FILE_PATH = f'{DATA_PATH}r.-1.0.mca'\n",
    "\n",
    "MIN_PERCENTAGE_AIR_THRESHOLD = 0.1\n",
    "\n",
    "from src.mca.extract_data_from_mca import get_region_data\n",
    "from src.utils.block_dictionary import get_block_id_dictionary, get_block_color_dictionary"
   ]
  },
  {
   "cell_type": "code",
   "execution_count": 3,
   "metadata": {},
   "outputs": [
    {
     "name": "stdout",
     "output_type": "stream",
     "text": [
      "✅ Loaded 1005 block states from C:\\Users\\arnau\\Desktop\\blocksage\\git\\blocksage\\data\\block_id_dict.json.\n",
      "✅ Loaded 1002 block colors from C:\\Users\\arnau\\Desktop\\blocksage\\git\\blocksage\\data\\block_color_dict.json.\n"
     ]
    },
    {
     "name": "stderr",
     "output_type": "stream",
     "text": [
      "🔄 Processing chunks: 100%|██████████| 1024/1024 [00:04<00:00, 249.87it/s]\n"
     ]
    }
   ],
   "source": [
    "block_id_dict = get_block_id_dictionary()\n",
    "block_color_dict = get_block_color_dictionary()\n",
    "\n",
    "region_blocks = get_region_data(REGION_FILE_PATH, block_id_dict=block_id_dict, parallelize_chunks=True)"
   ]
  },
  {
   "cell_type": "code",
   "execution_count": null,
   "metadata": {},
   "outputs": [],
   "source": [
    "relevant_sections = {}\n",
    "\n",
    "for region_x in region_blocks.shape[0]:\n",
    "    for region_y "
   ]
  },
  {
   "cell_type": "code",
   "execution_count": 4,
   "metadata": {},
   "outputs": [
    {
     "data": {
      "text/plain": [
       "(32, 32, 24, 16, 16, 16)"
      ]
     },
     "execution_count": 4,
     "metadata": {},
     "output_type": "execute_result"
    }
   ],
   "source": [
    "region_blocks.shape"
   ]
  }
 ],
 "metadata": {
  "kernelspec": {
   "display_name": "Python 3",
   "language": "python",
   "name": "python3"
  },
  "language_info": {
   "codemirror_mode": {
    "name": "ipython",
    "version": 3
   },
   "file_extension": ".py",
   "mimetype": "text/x-python",
   "name": "python",
   "nbconvert_exporter": "python",
   "pygments_lexer": "ipython3",
   "version": "3.12.1"
  }
 },
 "nbformat": 4,
 "nbformat_minor": 2
}
